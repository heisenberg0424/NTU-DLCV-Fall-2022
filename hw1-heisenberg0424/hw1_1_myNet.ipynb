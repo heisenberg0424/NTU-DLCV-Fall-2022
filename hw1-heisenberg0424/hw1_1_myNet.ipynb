{
 "cells": [
  {
   "cell_type": "code",
   "execution_count": 1,
   "id": "afe0f73d",
   "metadata": {},
   "outputs": [],
   "source": [
    "%load_ext autoreload\n",
    "%autoreload 2"
   ]
  },
  {
   "cell_type": "code",
   "execution_count": 2,
   "id": "fd9d01c1",
   "metadata": {},
   "outputs": [],
   "source": [
    "from hw1_1 import *\n",
    "from torch.optim import Adam\n",
    "from torch.autograd import Variable"
   ]
  },
  {
   "cell_type": "code",
   "execution_count": 3,
   "id": "96ca949b",
   "metadata": {},
   "outputs": [],
   "source": [
    "model = MyNetwork()\n",
    "\n",
    "train_loader = loadData('hw1_data/hw1_data/p1_data/train_50',data_aug=True)\n",
    "val_loader = loadData('hw1_data/hw1_data/p1_data/val_50')\n",
    "\n",
    "\n",
    "\n",
    "loss_fn = nn.CrossEntropyLoss()\n",
    "optimizer = Adam(model.parameters(), lr=0.003)"
   ]
  },
  {
   "cell_type": "code",
   "execution_count": 4,
   "id": "a303ca45",
   "metadata": {},
   "outputs": [],
   "source": [
    "def saveModel(name=''):\n",
    "    path = \"./hw1_1_myNet\"+name+\".pth\"\n",
    "    torch.save(model.state_dict(), path)\n",
    "\n",
    "def valAccuracy():\n",
    "    model.eval().cuda()\n",
    "    accuracy = 0.0\n",
    "    total = 0.0\n",
    "    \n",
    "    with torch.no_grad():\n",
    "        for data in val_loader:\n",
    "            images, labels = data\n",
    "            outputs = model(images.cuda())\n",
    "            _, predicted = torch.max(outputs.data, 1)\n",
    "            total += labels.size(0)\n",
    "            accuracy += (predicted == labels.cuda()).sum().item()\n",
    "    \n",
    "    accuracy = (100 * accuracy / total)\n",
    "    return(accuracy)\n",
    "\n",
    "def train(num_epochs):\n",
    "    \n",
    "    best_accuracy = 0.0\n",
    "\n",
    "    device = torch.device(\"cuda:0\" if torch.cuda.is_available() else \"cpu\")\n",
    "    print(\"The model will be running on\", device, \"device\")\n",
    "    model.to(device)\n",
    "\n",
    "    for epoch in range(num_epochs):  # loop over the dataset multiple times\n",
    "        for i, (images, labels) in enumerate(train_loader, 0):\n",
    "            \n",
    "            # get the inputs\n",
    "            images = Variable(images.to(device))\n",
    "            labels = Variable(labels.to(device))\n",
    "\n",
    "            # zero the parameter gradients\n",
    "            optimizer.zero_grad()\n",
    "            # predict classes using images from the training set\n",
    "            outputs = model(images)\n",
    "            # compute the loss based on model output and real labels\n",
    "            loss = loss_fn(outputs, labels)\n",
    "            # backpropagate the loss\n",
    "            loss.backward()\n",
    "            # adjust parameters based on the calculated gradients\n",
    "            optimizer.step()\n",
    "\n",
    "        # Compute and print the average accuracy fo this epoch when tested over all test images\n",
    "        accuracy = valAccuracy()\n",
    "        print('For epoch', epoch+1,': test accuracy:{:.4f}%, loss:{:.4f}'.format(accuracy,loss.item()))\n",
    "        \n",
    "        # we want to save the model if the accuracy is the best\n",
    "        if accuracy > best_accuracy:\n",
    "            #saveModel()\n",
    "            best_accuracy = accuracy\n",
    "        if epoch==1:\n",
    "            saveModel('First')\n",
    "        if epoch==18:\n",
    "            saveModel('Mid')\n",
    "            break"
   ]
  },
  {
   "cell_type": "code",
   "execution_count": 5,
   "id": "7ede904f",
   "metadata": {
    "scrolled": false
   },
   "outputs": [
    {
     "name": "stdout",
     "output_type": "stream",
     "text": [
      "The model will be running on cuda:0 device\n",
      "For epoch 1 : test accuracy:3.5200%, loss:3.7987\n",
      "For epoch 2 : test accuracy:6.8400%, loss:3.4259\n",
      "For epoch 3 : test accuracy:7.7200%, loss:3.3945\n",
      "For epoch 4 : test accuracy:8.3600%, loss:3.3506\n",
      "For epoch 5 : test accuracy:9.8400%, loss:3.3559\n",
      "For epoch 6 : test accuracy:12.5200%, loss:3.2262\n",
      "For epoch 7 : test accuracy:14.2800%, loss:2.9376\n",
      "For epoch 8 : test accuracy:16.4800%, loss:3.2594\n",
      "For epoch 9 : test accuracy:16.8000%, loss:2.8969\n",
      "For epoch 10 : test accuracy:21.6000%, loss:2.5370\n",
      "For epoch 11 : test accuracy:25.8800%, loss:2.4910\n",
      "For epoch 12 : test accuracy:27.1200%, loss:2.4147\n",
      "For epoch 13 : test accuracy:30.4800%, loss:2.2911\n",
      "For epoch 14 : test accuracy:32.9600%, loss:2.3621\n",
      "For epoch 15 : test accuracy:36.0400%, loss:2.0152\n",
      "For epoch 16 : test accuracy:38.5600%, loss:1.8636\n",
      "For epoch 17 : test accuracy:40.2000%, loss:1.6837\n",
      "For epoch 18 : test accuracy:42.6800%, loss:1.7554\n",
      "For epoch 19 : test accuracy:44.8800%, loss:1.5541\n"
     ]
    }
   ],
   "source": [
    "train(200)"
   ]
  },
  {
   "cell_type": "code",
   "execution_count": null,
   "id": "51696dcc",
   "metadata": {},
   "outputs": [],
   "source": []
  }
 ],
 "metadata": {
  "kernelspec": {
   "display_name": "Python3.8 (DLCVenv)",
   "language": "python",
   "name": "dlcvenc"
  },
  "language_info": {
   "codemirror_mode": {
    "name": "ipython",
    "version": 3
   },
   "file_extension": ".py",
   "mimetype": "text/x-python",
   "name": "python",
   "nbconvert_exporter": "python",
   "pygments_lexer": "ipython3",
   "version": "3.8.15"
  }
 },
 "nbformat": 4,
 "nbformat_minor": 5
}
